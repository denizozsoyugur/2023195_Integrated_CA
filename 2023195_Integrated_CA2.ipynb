{
 "cells": [
  {
   "cell_type": "markdown",
   "id": "0f4de62e",
   "metadata": {},
   "source": [
    "## Assessment Title: Integrated CA \n",
    "\n",
    "## Lecturer Name: David McQuaid & Muhammad Iqbal\n",
    "\n",
    "## Student Full Name & Student ID:  Deniz OZSOY UGUR - 2023195 "
   ]
  },
  {
   "cell_type": "markdown",
   "id": "0aa35d25",
   "metadata": {},
   "source": [
    "### Link to Dataset\n",
    "\n",
    "https://data.gov.ie/dataset/dublin-ringsend-rainfall-data?package_type=dataset"
   ]
  },
  {
   "cell_type": "markdown",
   "id": "4505a058",
   "metadata": {},
   "source": [
    "### GitHub Repository: \n",
    "\n",
    "https://github.com/denizozsoyugur/2023195_Integrated_CA"
   ]
  },
  {
   "cell_type": "markdown",
   "id": "cbacbd15",
   "metadata": {},
   "source": [
    "# Introduction"
   ]
  },
  {
   "cell_type": "code",
   "execution_count": null,
   "id": "24118071",
   "metadata": {},
   "outputs": [],
   "source": [
    "#!pip install dash dash-core-components dash-html-components dash-table plotly"
   ]
  },
  {
   "cell_type": "code",
   "execution_count": null,
   "id": "2571d217",
   "metadata": {},
   "outputs": [],
   "source": [
    "#!pip install dash-bootstrap-components"
   ]
  },
  {
   "cell_type": "code",
   "execution_count": null,
   "id": "520aaabb",
   "metadata": {},
   "outputs": [],
   "source": [
    "#!pip install plotly"
   ]
  },
  {
   "cell_type": "code",
   "execution_count": null,
   "id": "5fc73c0b",
   "metadata": {},
   "outputs": [],
   "source": [
    "#!pip install pandas"
   ]
  },
  {
   "cell_type": "code",
   "execution_count": 1,
   "id": "6cff81b5",
   "metadata": {},
   "outputs": [],
   "source": [
    "# Import NumPy, Pandas, Matplotlib, Seaborn libraries and Plotly Express\n",
    "\n",
    "import numpy as np\n",
    "import pandas as pd\n",
    "from matplotlib import pyplot as plt\n",
    "import seaborn as sns\n",
    "import plotly.express as px"
   ]
  },
  {
   "cell_type": "code",
   "execution_count": 2,
   "id": "916b782d",
   "metadata": {},
   "outputs": [],
   "source": [
    "# Import warnings and apply filterwarnings to ignore them.\n",
    "\n",
    "import warnings\n",
    "warnings.filterwarnings('ignore')"
   ]
  },
  {
   "cell_type": "code",
   "execution_count": 3,
   "id": "b2f32776",
   "metadata": {},
   "outputs": [],
   "source": [
    "df = pd.read_csv(\"irish_monthly_rainy_weather.csv\")\n",
    "\n",
    "# pd.read_csv function in order to read the csv file"
   ]
  },
  {
   "cell_type": "code",
   "execution_count": 4,
   "id": "14f10b30",
   "metadata": {},
   "outputs": [
    {
     "data": {
      "text/html": [
       "<div>\n",
       "<style scoped>\n",
       "    .dataframe tbody tr th:only-of-type {\n",
       "        vertical-align: middle;\n",
       "    }\n",
       "\n",
       "    .dataframe tbody tr th {\n",
       "        vertical-align: top;\n",
       "    }\n",
       "\n",
       "    .dataframe thead th {\n",
       "        text-align: right;\n",
       "    }\n",
       "</style>\n",
       "<table border=\"1\" class=\"dataframe\">\n",
       "  <thead>\n",
       "    <tr style=\"text-align: right;\">\n",
       "      <th></th>\n",
       "      <th>year</th>\n",
       "      <th>month</th>\n",
       "      <th>ind</th>\n",
       "      <th>rain</th>\n",
       "      <th>gdf</th>\n",
       "      <th>rd</th>\n",
       "      <th>wd</th>\n",
       "    </tr>\n",
       "  </thead>\n",
       "  <tbody>\n",
       "    <tr>\n",
       "      <th>0</th>\n",
       "      <td>1941</td>\n",
       "      <td>1</td>\n",
       "      <td>0</td>\n",
       "      <td>112.8</td>\n",
       "      <td>13</td>\n",
       "      <td>18</td>\n",
       "      <td>18</td>\n",
       "    </tr>\n",
       "    <tr>\n",
       "      <th>1</th>\n",
       "      <td>1941</td>\n",
       "      <td>2</td>\n",
       "      <td>0</td>\n",
       "      <td>69.5</td>\n",
       "      <td>13</td>\n",
       "      <td>22</td>\n",
       "      <td>15</td>\n",
       "    </tr>\n",
       "    <tr>\n",
       "      <th>2</th>\n",
       "      <td>1941</td>\n",
       "      <td>3</td>\n",
       "      <td>0</td>\n",
       "      <td>111</td>\n",
       "      <td>50</td>\n",
       "      <td>21</td>\n",
       "      <td>13</td>\n",
       "    </tr>\n",
       "    <tr>\n",
       "      <th>3</th>\n",
       "      <td>1941</td>\n",
       "      <td>4</td>\n",
       "      <td>0</td>\n",
       "      <td>68.6</td>\n",
       "      <td>16.5</td>\n",
       "      <td>15</td>\n",
       "      <td>12</td>\n",
       "    </tr>\n",
       "    <tr>\n",
       "      <th>4</th>\n",
       "      <td>1941</td>\n",
       "      <td>5</td>\n",
       "      <td>0</td>\n",
       "      <td>66.4</td>\n",
       "      <td>20.1</td>\n",
       "      <td>13</td>\n",
       "      <td>10</td>\n",
       "    </tr>\n",
       "  </tbody>\n",
       "</table>\n",
       "</div>"
      ],
      "text/plain": [
       "   year  month  ind   rain   gdf  rd  wd\n",
       "0  1941      1    0  112.8    13  18  18\n",
       "1  1941      2    0   69.5    13  22  15\n",
       "2  1941      3    0    111    50  21  13\n",
       "3  1941      4    0   68.6  16.5  15  12\n",
       "4  1941      5    0   66.4  20.1  13  10"
      ]
     },
     "execution_count": 4,
     "metadata": {},
     "output_type": "execute_result"
    }
   ],
   "source": [
    "df.head(5)\n",
    "\n",
    "#  Print the first 5 rows of the dataframe by applying the.head() function"
   ]
  },
  {
   "cell_type": "code",
   "execution_count": 5,
   "id": "70b38892",
   "metadata": {},
   "outputs": [],
   "source": [
    "missing_values = ['/',' ','-','--','na','Na','n/a','NA','n.a.','?','nan','Nan','nul','Nul','null','Null']\n",
    "\n",
    "df= pd.read_csv('irish_monthly_rainy_weather.csv',na_values=missing_values)\n",
    "\n",
    "# Create a list with all the possible missing value formats. Create a name for the dataframe as report\n",
    "# ('irish_monthly_rainy_weather')and apply the pd.read_csv function \n",
    "# Include the variable 'na_values' and define it with the 'missing values' list previously created"
   ]
  },
  {
   "cell_type": "code",
   "execution_count": 6,
   "id": "6b421f56",
   "metadata": {},
   "outputs": [
    {
     "data": {
      "text/plain": [
       "year       0\n",
       "month      0\n",
       "ind        0\n",
       "rain      50\n",
       "gdf      104\n",
       "rd        91\n",
       "wd        91\n",
       "dtype: int64"
      ]
     },
     "execution_count": 6,
     "metadata": {},
     "output_type": "execute_result"
    }
   ],
   "source": [
    "df.isnull().sum()\n",
    "\n",
    "# Check missing values by applying the .isnull().sum method to the dataframe"
   ]
  },
  {
   "cell_type": "code",
   "execution_count": 7,
   "id": "f8a82f8c",
   "metadata": {},
   "outputs": [
    {
     "data": {
      "text/plain": [
       "year      0.000000\n",
       "month     0.000000\n",
       "ind       0.000000\n",
       "rain      5.192108\n",
       "gdf      10.799585\n",
       "rd        9.449637\n",
       "wd        9.449637\n",
       "dtype: float64"
      ]
     },
     "execution_count": 7,
     "metadata": {},
     "output_type": "execute_result"
    }
   ],
   "source": [
    "df.isnull().sum() / len(df) * 100\n",
    "\n",
    "# Check missing values by applying the .isnull().sum method to the dataframe and divide it by the length of the dataframe,\n",
    "# calculated with the len() function. Then, multiply the result * 100 to obtain a percentage"
   ]
  },
  {
   "cell_type": "code",
   "execution_count": 8,
   "id": "5b586b94",
   "metadata": {},
   "outputs": [
    {
     "data": {
      "text/plain": [
       "Index(['year', 'month', 'ind', 'rain', 'gdf', 'rd', 'wd'], dtype='object')"
      ]
     },
     "execution_count": 8,
     "metadata": {},
     "output_type": "execute_result"
    }
   ],
   "source": [
    "df.columns\n",
    "\n",
    "# Check the column names of the dataframe by applying the .columns attribute"
   ]
  },
  {
   "cell_type": "raw",
   "id": "ebeb7e30",
   "metadata": {},
   "source": [
    "'month':'Month',Station Name: DUBLIN (Ringsend)\n",
    "Station Height: 5 M \n",
    "Latitude:53.342 \n",
    "Longitude: -6.216\n",
    "\n",
    "year:  -  Year\n",
    "month: -  Month\n",
    "rain:  -  Precipitation Amount (mm)\n",
    "gdf:   -  Greatest daily fall (mm)\n",
    "rd:    -  Number of rain days (0.2mm or more)\n",
    "wd:    -  Number of wet days (1.0 mm or more)\n",
    "ind:   -  Indicator\n"
   ]
  },
  {
   "cell_type": "code",
   "execution_count": 9,
   "id": "7e2198ce",
   "metadata": {},
   "outputs": [],
   "source": [
    "df.rename(columns={'year':'Year', \n",
    "                   'month':'Month', 'ind':'Indicator','rain':'Precipitation_Amount','gdf':'Greatest_Daily_Fall',\n",
    "                   'rd':'Number_of_Rainy_Days', 'wd':'Number_of_Wet_Days'}, inplace=True)\n",
    "\n",
    "# Rename the columns of the dataframe by applying the .rename() method"
   ]
  },
  {
   "cell_type": "code",
   "execution_count": 11,
   "id": "1b4a8ca4",
   "metadata": {},
   "outputs": [],
   "source": [
    "df.drop(columns=[\"Indicator\"], inplace=True)\n",
    "\n",
    "# Apply .drop() to remove the column as it contains the same index values"
   ]
  },
  {
   "cell_type": "code",
   "execution_count": 12,
   "id": "35b2bd7e",
   "metadata": {},
   "outputs": [
    {
     "data": {
      "text/html": [
       "<div>\n",
       "<style scoped>\n",
       "    .dataframe tbody tr th:only-of-type {\n",
       "        vertical-align: middle;\n",
       "    }\n",
       "\n",
       "    .dataframe tbody tr th {\n",
       "        vertical-align: top;\n",
       "    }\n",
       "\n",
       "    .dataframe thead th {\n",
       "        text-align: right;\n",
       "    }\n",
       "</style>\n",
       "<table border=\"1\" class=\"dataframe\">\n",
       "  <thead>\n",
       "    <tr style=\"text-align: right;\">\n",
       "      <th></th>\n",
       "      <th>Year</th>\n",
       "      <th>Month</th>\n",
       "      <th>Precipitation_Amount</th>\n",
       "      <th>Greatest_Daily_Fall</th>\n",
       "      <th>Number_of_Rainy_Days</th>\n",
       "      <th>Number_of_Wet_Days</th>\n",
       "    </tr>\n",
       "  </thead>\n",
       "  <tbody>\n",
       "    <tr>\n",
       "      <th>0</th>\n",
       "      <td>1941</td>\n",
       "      <td>1</td>\n",
       "      <td>112.8</td>\n",
       "      <td>13.0</td>\n",
       "      <td>18.0</td>\n",
       "      <td>18.0</td>\n",
       "    </tr>\n",
       "    <tr>\n",
       "      <th>1</th>\n",
       "      <td>1941</td>\n",
       "      <td>2</td>\n",
       "      <td>69.5</td>\n",
       "      <td>13.0</td>\n",
       "      <td>22.0</td>\n",
       "      <td>15.0</td>\n",
       "    </tr>\n",
       "  </tbody>\n",
       "</table>\n",
       "</div>"
      ],
      "text/plain": [
       "   Year  Month  Precipitation_Amount  Greatest_Daily_Fall  \\\n",
       "0  1941      1                 112.8                 13.0   \n",
       "1  1941      2                  69.5                 13.0   \n",
       "\n",
       "   Number_of_Rainy_Days  Number_of_Wet_Days  \n",
       "0                  18.0                18.0  \n",
       "1                  22.0                15.0  "
      ]
     },
     "execution_count": 12,
     "metadata": {},
     "output_type": "execute_result"
    }
   ],
   "source": [
    "df.head(2)"
   ]
  },
  {
   "cell_type": "code",
   "execution_count": 13,
   "id": "e20c9808",
   "metadata": {},
   "outputs": [],
   "source": [
    "# I am creating a list of the columns to convert. These columns currently contain an object data type\n",
    "# and missing values. To convert them, missing values will be replaced with '0'. Afterwards,\n",
    "# the values will be converted from object to numeric to utilise all the features that apply to numeric data types\n",
    "\n",
    "cols_to_convert = ['Year','Month','Precipitation_Amount',\n",
    "                   'Greatest_Daily_Fall',\n",
    "                   'Number_of_Rainy_Days','Number_of_Wet_Days']"
   ]
  },
  {
   "cell_type": "code",
   "execution_count": 14,
   "id": "9fb492c1",
   "metadata": {},
   "outputs": [],
   "source": [
    "# Fill the missing values with 0 for the specified columns by applying the .fillna() method\n",
    "\n",
    "df[cols_to_convert] = df[cols_to_convert].fillna(0)"
   ]
  },
  {
   "cell_type": "code",
   "execution_count": 15,
   "id": "45401640",
   "metadata": {},
   "outputs": [
    {
     "data": {
      "text/plain": [
       "Year                    0.0\n",
       "Month                   0.0\n",
       "Precipitation_Amount    0.0\n",
       "Greatest_Daily_Fall     0.0\n",
       "Number_of_Rainy_Days    0.0\n",
       "Number_of_Wet_Days      0.0\n",
       "dtype: float64"
      ]
     },
     "execution_count": 15,
     "metadata": {},
     "output_type": "execute_result"
    }
   ],
   "source": [
    "# Calculating the percentage of missing values in each column obtained by applying the isnull().sum() method to the\n",
    "#social_housing dataframe and dividing the result by the total number of rows within the dataframe, whose number is obtained by\n",
    "# applying the .len() function.\n",
    "\n",
    "df.isnull().sum()/len(df)*100"
   ]
  },
  {
   "cell_type": "code",
   "execution_count": 17,
   "id": "71c858ee",
   "metadata": {},
   "outputs": [],
   "source": [
    "# Converting the specified columns from object to integer data type by applying the .astype() method\n",
    "\n",
    "df[cols_to_convert] = df[cols_to_convert].astype(int)"
   ]
  },
  {
   "cell_type": "code",
   "execution_count": 18,
   "id": "bb2a184b",
   "metadata": {},
   "outputs": [
    {
     "name": "stdout",
     "output_type": "stream",
     "text": [
      "<class 'pandas.core.frame.DataFrame'>\n",
      "RangeIndex: 963 entries, 0 to 962\n",
      "Data columns (total 6 columns):\n",
      " #   Column                Non-Null Count  Dtype\n",
      "---  ------                --------------  -----\n",
      " 0   Year                  963 non-null    int32\n",
      " 1   Month                 963 non-null    int32\n",
      " 2   Precipitation_Amount  963 non-null    int32\n",
      " 3   Greatest_Daily_Fall   963 non-null    int32\n",
      " 4   Number_of_Rainy_Days  963 non-null    int32\n",
      " 5   Number_of_Wet_Days    963 non-null    int32\n",
      "dtypes: int32(6)\n",
      "memory usage: 22.7 KB\n"
     ]
    }
   ],
   "source": [
    "# Displaying the summary information of the dataframe by applying the .info() method\n",
    "\n",
    "df.info()"
   ]
  },
  {
   "cell_type": "code",
   "execution_count": 19,
   "id": "d5eadec2",
   "metadata": {},
   "outputs": [
    {
     "data": {
      "text/html": [
       "<div>\n",
       "<style scoped>\n",
       "    .dataframe tbody tr th:only-of-type {\n",
       "        vertical-align: middle;\n",
       "    }\n",
       "\n",
       "    .dataframe tbody tr th {\n",
       "        vertical-align: top;\n",
       "    }\n",
       "\n",
       "    .dataframe thead th {\n",
       "        text-align: right;\n",
       "    }\n",
       "</style>\n",
       "<table border=\"1\" class=\"dataframe\">\n",
       "  <thead>\n",
       "    <tr style=\"text-align: right;\">\n",
       "      <th></th>\n",
       "      <th>Year</th>\n",
       "      <th>Month</th>\n",
       "      <th>Precipitation_Amount</th>\n",
       "      <th>Greatest_Daily_Fall</th>\n",
       "      <th>Number_of_Rainy_Days</th>\n",
       "      <th>Number_of_Wet_Days</th>\n",
       "    </tr>\n",
       "  </thead>\n",
       "  <tbody>\n",
       "    <tr>\n",
       "      <th>0</th>\n",
       "      <td>1941</td>\n",
       "      <td>1</td>\n",
       "      <td>112</td>\n",
       "      <td>13</td>\n",
       "      <td>18</td>\n",
       "      <td>18</td>\n",
       "    </tr>\n",
       "    <tr>\n",
       "      <th>1</th>\n",
       "      <td>1941</td>\n",
       "      <td>2</td>\n",
       "      <td>69</td>\n",
       "      <td>13</td>\n",
       "      <td>22</td>\n",
       "      <td>15</td>\n",
       "    </tr>\n",
       "    <tr>\n",
       "      <th>2</th>\n",
       "      <td>1941</td>\n",
       "      <td>3</td>\n",
       "      <td>111</td>\n",
       "      <td>50</td>\n",
       "      <td>21</td>\n",
       "      <td>13</td>\n",
       "    </tr>\n",
       "    <tr>\n",
       "      <th>3</th>\n",
       "      <td>1941</td>\n",
       "      <td>4</td>\n",
       "      <td>68</td>\n",
       "      <td>16</td>\n",
       "      <td>15</td>\n",
       "      <td>12</td>\n",
       "    </tr>\n",
       "    <tr>\n",
       "      <th>4</th>\n",
       "      <td>1941</td>\n",
       "      <td>5</td>\n",
       "      <td>66</td>\n",
       "      <td>20</td>\n",
       "      <td>13</td>\n",
       "      <td>10</td>\n",
       "    </tr>\n",
       "  </tbody>\n",
       "</table>\n",
       "</div>"
      ],
      "text/plain": [
       "   Year  Month  Precipitation_Amount  Greatest_Daily_Fall  \\\n",
       "0  1941      1                   112                   13   \n",
       "1  1941      2                    69                   13   \n",
       "2  1941      3                   111                   50   \n",
       "3  1941      4                    68                   16   \n",
       "4  1941      5                    66                   20   \n",
       "\n",
       "   Number_of_Rainy_Days  Number_of_Wet_Days  \n",
       "0                    18                  18  \n",
       "1                    22                  15  \n",
       "2                    21                  13  \n",
       "3                    15                  12  \n",
       "4                    13                  10  "
      ]
     },
     "execution_count": 19,
     "metadata": {},
     "output_type": "execute_result"
    }
   ],
   "source": [
    "df.head()"
   ]
  },
  {
   "cell_type": "code",
   "execution_count": 25,
   "id": "2495ca1e",
   "metadata": {},
   "outputs": [
    {
     "data": {
      "text/plain": [
       "(963, 6)"
      ]
     },
     "execution_count": 25,
     "metadata": {},
     "output_type": "execute_result"
    }
   ],
   "source": [
    "df.shape"
   ]
  },
  {
   "cell_type": "code",
   "execution_count": null,
   "id": "989bc4a7",
   "metadata": {},
   "outputs": [],
   "source": []
  }
 ],
 "metadata": {
  "kernelspec": {
   "display_name": "Python 3 (ipykernel)",
   "language": "python",
   "name": "python3"
  },
  "language_info": {
   "codemirror_mode": {
    "name": "ipython",
    "version": 3
   },
   "file_extension": ".py",
   "mimetype": "text/x-python",
   "name": "python",
   "nbconvert_exporter": "python",
   "pygments_lexer": "ipython3",
   "version": "3.11.4"
  }
 },
 "nbformat": 4,
 "nbformat_minor": 5
}
